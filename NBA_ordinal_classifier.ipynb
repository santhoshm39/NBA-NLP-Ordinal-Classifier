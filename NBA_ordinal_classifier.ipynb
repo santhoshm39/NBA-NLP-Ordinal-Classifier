{
  "cells": [
    {
      "cell_type": "markdown",
      "metadata": {
        "id": "BfXdXX-v2VBJ"
      },
      "source": []
    },
    {
      "cell_type": "code",
      "execution_count": null,
      "metadata": {
        "id": "TQTT9x-6d2JI",
        "colab": {
          "base_uri": "https://localhost:8080/"
        },
        "outputId": "0db26b10-b454-4e31-b9ac-48ebc5e4ae71"
      },
      "outputs": [
        {
          "output_type": "stream",
          "name": "stdout",
          "text": [
            "--2022-04-23 04:45:55--  https://raw.githubusercontent.com/dbamman/nlp22/main/HW3/glove.6B.50d.50K.txt\n",
            "Resolving raw.githubusercontent.com (raw.githubusercontent.com)... 185.199.108.133, 185.199.109.133, 185.199.110.133, ...\n",
            "Connecting to raw.githubusercontent.com (raw.githubusercontent.com)|185.199.108.133|:443... connected.\n",
            "HTTP request sent, awaiting response... 200 OK\n",
            "Length: 21357789 (20M) [text/plain]\n",
            "Saving to: ‘glove.6B.50d.50K.txt.3’\n",
            "\n",
            "\rglove.6B.50d.50K.tx   0%[                    ]       0  --.-KB/s               \rglove.6B.50d.50K.tx 100%[===================>]  20.37M  --.-KB/s    in 0.1s    \n",
            "\n",
            "2022-04-23 04:45:55 (152 MB/s) - ‘glove.6B.50d.50K.txt.3’ saved [21357789/21357789]\n",
            "\n"
          ]
        }
      ],
      "source": [
        "from scipy import sparse\n",
        "from sklearn import linear_model\n",
        "from collections import Counter\n",
        "import numpy as np\n",
        "import operator\n",
        "import nltk\n",
        "import math\n",
        "from scipy.stats import norm\n",
        "import pandas as pd\n",
        "\n",
        "!wget https://raw.githubusercontent.com/dbamman/nlp22/main/HW3/glove.6B.50d.50K.txt"
      ]
    },
    {
      "cell_type": "code",
      "execution_count": null,
      "metadata": {
        "colab": {
          "base_uri": "https://localhost:8080/"
        },
        "id": "e4KuVSCSqlUX",
        "outputId": "02d94271-50e9-4d00-cf85-b8ef6e3dddf4"
      },
      "outputs": [
        {
          "output_type": "stream",
          "name": "stdout",
          "text": [
            "/usr/lib/python3.7/runpy.py:125: RuntimeWarning: 'nltk.downloader' found in sys.modules after import of package 'nltk', but prior to execution of 'nltk.downloader'; this may result in unpredictable behaviour\n",
            "  warn(RuntimeWarning(msg))\n",
            "[nltk_data] Downloading package punkt to /root/nltk_data...\n",
            "[nltk_data]   Package punkt is already up-to-date!\n"
          ]
        }
      ],
      "source": [
        "!python -m nltk.downloader punkt"
      ]
    },
    {
      "cell_type": "code",
      "execution_count": null,
      "metadata": {
        "id": "4CWS2gZP2VBU"
      },
      "outputs": [],
      "source": [
        "def load_ordinal_data(filename, ordering):\n",
        "    X = []\n",
        "    Y = []\n",
        "    orig_Y=[]\n",
        "    for ordinal in ordering:\n",
        "        Y.append([])\n",
        "        \n",
        "    with open(filename, encoding=\"utf-8\") as file:\n",
        "        for line in file:\n",
        "            cols = line.split(\"\\t\")\n",
        "            idd = cols[0]\n",
        "            label = cols[1].lstrip().rstrip()\n",
        "            text = cols[2]\n",
        "\n",
        "            X.append(text)\n",
        "            \n",
        "            index=ordering.index(label)\n",
        "            for i in range(len(ordering)):\n",
        "                if index > i:\n",
        "                    Y[i].append(1)\n",
        "                else:\n",
        "                    Y[i].append(0)\n",
        "            orig_Y.append(label)\n",
        "                    \n",
        "    return X, Y, orig_Y\n",
        "\n"
      ]
    },
    {
      "cell_type": "code",
      "execution_count": null,
      "metadata": {
        "id": "5zXmxnwi2VBV"
      },
      "outputs": [],
      "source": [
        "class OrdinalClassifier:\n",
        "\n",
        "    def __init__(self, ordinal_values, feature_method, trainX, trainY, devX, devY, testX, testY, orig_trainY, orig_devY, orig_testY):\n",
        "        self.ordinal_values=ordinal_values\n",
        "        self.feature_vocab = {}\n",
        "        self.feature_method = feature_method\n",
        "        self.min_feature_count=2\n",
        "        self.log_regs = [None]* (len(self.ordinal_values)-1)\n",
        "\n",
        "        self.trainY=trainY\n",
        "        self.devY=devY\n",
        "        self.testY=testY\n",
        "        \n",
        "        self.orig_trainY=orig_trainY\n",
        "        self.orig_devY=orig_devY\n",
        "        self.orig_testY=orig_testY\n",
        "        \n",
        "        self.trainX = self.process(trainX, training=True)\n",
        "        self.devX = self.process(devX, training=False)\n",
        "        self.testX = self.process(testX, training=False)\n",
        "\n",
        "    # Featurize entire dataset\n",
        "    def featurize(self, data):\n",
        "        featurized_data = []\n",
        "        for text in data:\n",
        "            feats = self.feature_method(text)\n",
        "            featurized_data.append(feats)\n",
        "        return featurized_data\n",
        "\n",
        "    # Read dataset and returned featurized representation as sparse matrix + label array\n",
        "    def process(self, X_data, training = False):\n",
        "        \n",
        "        data = self.featurize(X_data)\n",
        "\n",
        "        if training:\n",
        "            fid = 0\n",
        "            feature_doc_count = Counter()\n",
        "            for feats in data:\n",
        "                for feat in feats:\n",
        "                    feature_doc_count[feat]+= 1\n",
        "\n",
        "            for feat in feature_doc_count:\n",
        "                if feature_doc_count[feat] >= self.min_feature_count:\n",
        "                    self.feature_vocab[feat] = fid\n",
        "                    fid += 1\n",
        "\n",
        "        F = len(self.feature_vocab)\n",
        "        D = len(data)\n",
        "        X = sparse.dok_matrix((D, F))\n",
        "        for idx, feats in enumerate(data):\n",
        "            for feat in feats:\n",
        "                if feat in self.feature_vocab:\n",
        "                    X[idx, self.feature_vocab[feat]] = feats[feat]\n",
        "\n",
        "        return X\n",
        "\n",
        "\n",
        "    def train(self):\n",
        "        (D,F) = self.trainX.shape\n",
        "\n",
        "        \n",
        "        for idx, ordinal_value in enumerate(self.ordinal_values[:-1]):\n",
        "            best_dev_accuracy=0\n",
        "            best_model=None\n",
        "            for C in [0.1, 1, 10, 100]:\n",
        "\n",
        "                log_reg = linear_model.LogisticRegression(C = C, max_iter=1000)\n",
        "                log_reg.fit(self.trainX, self.trainY[idx])\n",
        "                development_accuracy = log_reg.score(self.devX, self.devY[idx])\n",
        "                if development_accuracy > best_dev_accuracy:\n",
        "                    best_dev_accuracy=development_accuracy\n",
        "                    best_model=log_reg\n",
        "\n",
        "\n",
        "            self.log_regs[idx]=best_model\n",
        "        \n",
        "    def test(self):\n",
        "        cor=tot=0\n",
        "        counts=Counter()\n",
        "        preds=[None]*(len(self.ordinal_values)-1)\n",
        "        for idx, ordinal_value in enumerate(self.ordinal_values[:-1]):\n",
        "            preds[idx]=self.log_regs[idx].predict_proba(self.testX)[:,1]\n",
        "        \n",
        "        preds=np.array(preds)\n",
        "        predY = []\n",
        "            \n",
        "        for data_point in range(len(preds[0])):\n",
        "            \n",
        "    \n",
        "            ordinal_preds=np.zeros(len(self.ordinal_values))\n",
        "            for ordinal in range(len(self.ordinal_values)-1):\n",
        "                if ordinal == 0:\n",
        "                    ordinal_preds[ordinal]=1-preds[ordinal][data_point]\n",
        "                else:\n",
        "                    ordinal_preds[ordinal]=preds[ordinal-1][data_point]-preds[ordinal][data_point]\n",
        "\n",
        "            ordinal_preds[len(self.ordinal_values)-1]=preds[len(preds)-1][data_point]\n",
        "\n",
        "            prediction=np.argmax(ordinal_preds)\n",
        "            predY.append(str(prediction + 1))\n",
        "            counts[prediction]+=1\n",
        "            if prediction == self.ordinal_values.index(self.orig_testY[data_point]):\n",
        "                cor+=1\n",
        "            tot+=1\n",
        "\n",
        "        return cor/tot, predY"
      ]
    },
    {
      "cell_type": "code",
      "source": [
        "PAD_INDEX = 0             # reserved for padding words\n",
        "UNKNOWN_INDEX = 1         # reserved for unknown words\n",
        "SEP_INDEX = 2\n",
        "\n",
        "data_lens = []\n",
        "\n",
        "def read_embeddings(filename, vocab_size=50000):\n",
        "\n",
        "  # get the embedding size from the first embedding\n",
        "  with open(filename, encoding=\"utf-8\") as file:\n",
        "    word_embedding_dim = len(file.readline().split(\" \")) - 1\n",
        "\n",
        "  vocab = {}\n",
        "\n",
        "  embeddings = np.zeros((vocab_size, word_embedding_dim))\n",
        "  with open(filename, encoding=\"utf-8\") as file:\n",
        "    for idx, line in enumerate(file):\n",
        "\n",
        "      if idx + 2 >= vocab_size:\n",
        "        break\n",
        "\n",
        "      cols = line.rstrip().split(\" \")\n",
        "      val = np.array(cols[1:])\n",
        "      word = cols[0]\n",
        "      embeddings[idx + 2] = val\n",
        "      vocab[word] = idx + 2\n",
        "  \n",
        "  return embeddings, vocab"
      ],
      "metadata": {
        "id": "JJpHR5f9mR97"
      },
      "execution_count": null,
      "outputs": []
    },
    {
      "cell_type": "code",
      "source": [
        "def glove_featurize(text):\n",
        "    embs, glove_vocab = read_embeddings(\"glove.6B.50d.50K.txt\")\n",
        "    feats = {}\n",
        "\n",
        "    words=nltk.word_tokenize(text)\n",
        "    avg_emb=np.zeros(50)\n",
        "    avg_counter = 0.\n",
        "    for word in words:\n",
        "        word=word.lower()\n",
        "        if word in glove_vocab:\n",
        "            avg_emb += embs[glove_vocab[word]]\n",
        "            avg_counter += 1\n",
        "    avg_emb /= avg_counter\n",
        "\n",
        "    for i in range(len(avg_emb)):\n",
        "        feats[i] = avg_emb[i]\n",
        "    \n",
        "    print(feats)\n",
        "    return feats"
      ],
      "metadata": {
        "id": "OjBG7rmS-Trx"
      },
      "execution_count": null,
      "outputs": []
    },
    {
      "cell_type": "code",
      "execution_count": null,
      "metadata": {
        "id": "xbvpxS9j2VBY"
      },
      "outputs": [],
      "source": [
        "def binary_bow_featurize(text):\n",
        "    feats = {}\n",
        "    words = nltk.word_tokenize(text)\n",
        "\n",
        "    for word in words:\n",
        "        word=word.lower()\n",
        "        feats[word]=1\n",
        "            \n",
        "    return feats"
      ]
    },
    {
      "cell_type": "code",
      "execution_count": null,
      "metadata": {
        "id": "1sPIhozV2VBZ"
      },
      "outputs": [],
      "source": [
        "def confidence_intervals(accuracy, n, significance_level):\n",
        "    critical_value=(1-significance_level)/2\n",
        "    z_alpha=-1*norm.ppf(critical_value)\n",
        "    se=math.sqrt((accuracy*(1-accuracy))/n)\n",
        "    return accuracy-(se*z_alpha), accuracy+(se*z_alpha)"
      ]
    },
    {
      "cell_type": "code",
      "execution_count": null,
      "metadata": {
        "id": "LxuacL8B2VBa"
      },
      "outputs": [],
      "source": [
        "def run(trainingFile, devFile, testFile, ordinal_values):\n",
        "\n",
        "\n",
        "    trainX, trainY, orig_trainY=load_ordinal_data(trainingFile, ordinal_values)\n",
        "    devX, devY, orig_devY=load_ordinal_data(devFile, ordinal_values)\n",
        "    testX, testY, orig_testY=load_ordinal_data(testFile, ordinal_values)\n",
        "    \n",
        "    simple_classifier = OrdinalClassifier(ordinal_values, binary_bow_featurize, trainX, trainY, devX, devY, testX, testY, orig_trainY, orig_devY, orig_testY)\n",
        "    simple_classifier.train()\n",
        "    accuracy, predY = simple_classifier.test()\n",
        "\n",
        "    lower, upper=confidence_intervals(accuracy, len(testY[0]), .95)\n",
        "    print(\"Test accuracy for best dev model: %.3f, 95%% CIs: [%.3f %.3f]\\n\" % (accuracy, lower, upper))\n",
        "    return predY"
      ]
    },
    {
      "cell_type": "code",
      "execution_count": null,
      "metadata": {
        "colab": {
          "base_uri": "https://localhost:8080/"
        },
        "id": "BymqgWup2VBb",
        "outputId": "902aa510-72c0-45c6-d185-1990024aec97"
      },
      "outputs": [
        {
          "output_type": "stream",
          "name": "stdout",
          "text": [
            "Test accuracy for best dev model: 0.332, 95% CIs: [0.267 0.397]\n",
            "\n"
          ]
        }
      ],
      "source": [
        "# gid=2\n",
        "trainingFile = \"train.txt\" \n",
        "devFile = \"dev.txt\" \n",
        "testFile = \"test.txt\" \n",
        "    \n",
        "# ordinal values must be in order *as strings* from smallest to largest, e.g.:\n",
        "# ordinal_values=[\"G\", \"PG\", \"PG-13\", \"R\"]\n",
        "\n",
        "ordinal_values=['1', '2', '3', '4', '5']\n",
        "\n",
        "predY = run(trainingFile, devFile, testFile, ordinal_values)"
      ]
    },
    {
      "cell_type": "code",
      "execution_count": null,
      "metadata": {
        "id": "xCq1bL3e2jUj"
      },
      "outputs": [],
      "source": [
        "trainX, trainY, orig_trainY=load_ordinal_data(trainingFile, ordinal_values)\n",
        "devX, devY, orig_devY=load_ordinal_data(devFile, ordinal_values)\n",
        "testX, testY, orig_testY=load_ordinal_data(testFile, ordinal_values)"
      ]
    },
    {
      "cell_type": "code",
      "source": [],
      "metadata": {
        "id": "noqb5R2H-Cm1"
      },
      "execution_count": null,
      "outputs": []
    },
    {
      "cell_type": "markdown",
      "source": [
        "# **EDA/Data Vis**"
      ],
      "metadata": {
        "id": "euL0PTgR-Hz0"
      }
    },
    {
      "cell_type": "code",
      "source": [
        "import pandas as pd\n",
        "import matplotlib.pyplot as plt\n",
        "\n",
        "plt.bar(ordinal_values, pd.Series(orig_trainY).value_counts().sort_index())\n"
      ],
      "metadata": {
        "colab": {
          "base_uri": "https://localhost:8080/",
          "height": 282
        },
        "id": "wamSgG0T5SgT",
        "outputId": "8340079d-2160-401a-f01c-787268ff8d7c"
      },
      "execution_count": null,
      "outputs": [
        {
          "output_type": "execute_result",
          "data": {
            "text/plain": [
              "<BarContainer object of 5 artists>"
            ]
          },
          "metadata": {},
          "execution_count": 12
        },
        {
          "output_type": "display_data",
          "data": {
            "text/plain": [
              "<Figure size 432x288 with 1 Axes>"
            ],
            "image/png": "[encoded data removed]"
          },
          "metadata": {
            "needs_background": "light"
          }
        }
      ]
    },
    {
      "cell_type": "code",
      "source": [
        "np.mean([pred == orig for pred, orig in zip(predY, orig_testY)])"
      ],
      "metadata": {
        "colab": {
          "base_uri": "https://localhost:8080/"
        },
        "id": "unAVBldvJ7ki",
        "outputId": "2e75b2e5-563a-4557-d0ef-38f13ecf522a"
      },
      "execution_count": null,
      "outputs": [
        {
          "output_type": "execute_result",
          "data": {
            "text/plain": [
              "0.3316831683168317"
            ]
          },
          "metadata": {},
          "execution_count": 13
        }
      ]
    },
    {
      "cell_type": "code",
      "source": [
        "import seaborn as sn\n",
        "import matplotlib.pyplot as plt\n",
        "\n",
        "data = {'y_Actual': orig_testY,\n",
        "        'y_Predicted': predY\n",
        "        }\n",
        "\n",
        "df = pd.DataFrame(data, columns=['y_Actual','y_Predicted'])\n",
        "confusion_matrix = pd.crosstab(df['y_Actual'], df['y_Predicted'], rownames=['Actual'], colnames=['Predicted'])\n",
        "\n",
        "sn.heatmap(confusion_matrix, annot=True)\n",
        "plt.show()"
      ],
      "metadata": {
        "id": "IUU2T-6RKEYb",
        "colab": {
          "base_uri": "https://localhost:8080/",
          "height": 279
        },
        "outputId": "068b5bda-86e0-42b3-c136-c51618ed2087"
      },
      "execution_count": null,
      "outputs": [
        {
          "output_type": "display_data",
          "data": {
            "text/plain": [
              "<Figure size 432x288 with 2 Axes>"
            ],
            "image/png": "[encoded data removed]"
          },
          "metadata": {
            "needs_background": "light"
          }
        }
      ]
    },
    {
      "cell_type": "markdown",
      "source": [
        "## NBA Excitement Model Analysis:"
      ],
      "metadata": {
        "id": "t1RZ7YfVtbXl"
      }
    },
    {
      "cell_type": "markdown",
      "source": [
        "The most predicted excitement score class was 3 (with 34 correctly predicted entries) since it had 105 total predictions (out of 202 predictions in the test dataset). The second-most predicted score of excitement was class 4 (with 33 correctly predicted entries), and that had 95 total predictions. Additionally, very few data points were predicted as 2 and none were correctly predicted as 2 as most entries that were actually of the score 2 were mostly assigned to scores of 3 and 4. \n",
        "\n",
        "One example of a systematic mistake that was introduced through our model from looking at our data’s confusion matrix was that the model did not predict an excitement score of 1 or 5 from the NBA game summary dataset. This is likely due to the class imbalance that is present (disportionately many of the scores were 2, 3, or 4). There is also a clear bias towards the excitement scores of 3 and 4 which are clearly predicted the most out of the 3 which generated predictions. When annotating our dataset, we found that a score of 1 or 5 as the extreme cases for excitement were not present compared to the other 3 categories which shows that there weren't enough data points for those categories for the model to accurately train the data. \n",
        "\n",
        "The precision and recall scores for classes 1, 2, and 5 were all 0% as expected (since our classifier never predicted those correctly), but the precision for classes 3 and 4 (32% and 35%) were middling, and recall scores higher (53% and 50%) since our classifier doesn’t care about false positives as much. \n",
        "\n",
        "We considered multiple methods in trying to get proper accuracy with our model. Featurization using glove embeddings yielded only a marginally better accuracy the the binary bag of words model, by 1.5% (34% accuracy overall), but this method ran much too slowly for us to continue optimizing; it took almost 30 minutes to featurize 1000 data points. We are not certain if this bottleneck is a result of our model design or inherent to glove embedding processing. \n"
      ],
      "metadata": {
        "id": "qZgWaHtvtYL5"
      }
    },
    {
      "cell_type": "code",
      "source": [
        "!wget -nc https://raw.githubusercontent.com/brpy/colab-pdf/master/colab_pdf.py\n",
        "from colab_pdf import colab_pdf\n",
        "colab_pdf('AP4_NBA.ipynb')"
      ],
      "metadata": {
        "colab": {
          "base_uri": "https://localhost:8080/"
        },
        "id": "kq2OkfL3D8VI",
        "outputId": "9583b9f9-b24e-4444-8d09-d76b4ca808ee"
      },
      "execution_count": null,
      "outputs": [
        {
          "output_type": "stream",
          "name": "stdout",
          "text": [
            "File ‘colab_pdf.py’ already there; not retrieving.\n",
            "\n",
            "\n",
            "WARNING: apt does not have a stable CLI interface. Use with caution in scripts.\n",
            "\n",
            "\n",
            "WARNING: apt does not have a stable CLI interface. Use with caution in scripts.\n",
            "\n",
            "[NbConvertApp] Converting notebook /content/drive/MyDrive/Colab Notebooks/AP4_NBA.ipynb to pdf\n",
            "[NbConvertApp] Support files will be in AP4_NBA_files/\n",
            "[NbConvertApp] Making directory ./AP4_NBA_files\n",
            "[NbConvertApp] Making directory ./AP4_NBA_files\n",
            "[NbConvertApp] Writing 53223 bytes to ./notebook.tex\n",
            "[NbConvertApp] Building PDF\n",
            "[NbConvertApp] Running xelatex 3 times: ['xelatex', './notebook.tex', '-quiet']\n"
          ]
        }
      ]
    },
    {
      "cell_type": "code",
      "source": [],
      "metadata": {
        "id": "m34DGxYsnFFm"
      },
      "execution_count": null,
      "outputs": []
    }
  ],
  "metadata": {
    "colab": {
      "provenance": []
    },
    "kernelspec": {
      "display_name": "Python 3 (ipykernel)",
      "language": "python",
      "name": "python3"
    },
    "language_info": {
      "codemirror_mode": {
        "name": "ipython",
        "version": 3
      },
      "file_extension": ".py",
      "mimetype": "text/x-python",
      "name": "python",
      "nbconvert_exporter": "python",
      "pygments_lexer": "ipython3",
      "version": "3.8.3"
    }
  },
  "nbformat": 4,
  "nbformat_minor": 0
}